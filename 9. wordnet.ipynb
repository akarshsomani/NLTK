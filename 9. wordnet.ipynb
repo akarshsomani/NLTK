{
 "cells": [
  {
   "cell_type": "code",
   "execution_count": 1,
   "metadata": {},
   "outputs": [],
   "source": [
    "from nltk.corpus import wordnet"
   ]
  },
  {
   "cell_type": "code",
   "execution_count": 2,
   "metadata": {},
   "outputs": [],
   "source": [
    "syns=wordnet.synsets(\"program\")"
   ]
  },
  {
   "cell_type": "code",
   "execution_count": 3,
   "metadata": {},
   "outputs": [
    {
     "data": {
      "text/plain": [
       "[Synset('plan.n.01'),\n",
       " Synset('program.n.02'),\n",
       " Synset('broadcast.n.02'),\n",
       " Synset('platform.n.02'),\n",
       " Synset('program.n.05'),\n",
       " Synset('course_of_study.n.01'),\n",
       " Synset('program.n.07'),\n",
       " Synset('program.n.08'),\n",
       " Synset('program.v.01'),\n",
       " Synset('program.v.02')]"
      ]
     },
     "execution_count": 3,
     "metadata": {},
     "output_type": "execute_result"
    }
   ],
   "source": [
    "syns"
   ]
  },
  {
   "cell_type": "code",
   "execution_count": 4,
   "metadata": {},
   "outputs": [
    {
     "data": {
      "text/plain": [
       "Synset('plan.n.01')"
      ]
     },
     "execution_count": 4,
     "metadata": {},
     "output_type": "execute_result"
    }
   ],
   "source": [
    "syns[0]#synset"
   ]
  },
  {
   "cell_type": "code",
   "execution_count": 5,
   "metadata": {},
   "outputs": [
    {
     "data": {
      "text/plain": [
       "[Lemma('plan.n.01.plan'),\n",
       " Lemma('plan.n.01.program'),\n",
       " Lemma('plan.n.01.programme')]"
      ]
     },
     "execution_count": 5,
     "metadata": {},
     "output_type": "execute_result"
    }
   ],
   "source": [
    "syns[0].lemmas()"
   ]
  },
  {
   "cell_type": "code",
   "execution_count": 7,
   "metadata": {},
   "outputs": [
    {
     "data": {
      "text/plain": [
       "'plan'"
      ]
     },
     "execution_count": 7,
     "metadata": {},
     "output_type": "execute_result"
    }
   ],
   "source": [
    "syns[0].lemmas()[0].name()#just the word"
   ]
  },
  {
   "cell_type": "code",
   "execution_count": 9,
   "metadata": {},
   "outputs": [
    {
     "data": {
      "text/plain": [
       "'a series of steps to be carried out or goals to be accomplished'"
      ]
     },
     "execution_count": 9,
     "metadata": {},
     "output_type": "execute_result"
    }
   ],
   "source": [
    "syns[0].definition()#definition"
   ]
  },
  {
   "cell_type": "code",
   "execution_count": 10,
   "metadata": {},
   "outputs": [
    {
     "data": {
      "text/plain": [
       "['they drew up a six-step plan', 'they discussed plans for a new bond issue']"
      ]
     },
     "execution_count": 10,
     "metadata": {},
     "output_type": "execute_result"
    }
   ],
   "source": [
    "#examples\n",
    "syns[0].examples()"
   ]
  },
  {
   "cell_type": "code",
   "execution_count": 11,
   "metadata": {},
   "outputs": [],
   "source": [
    "synonyms=[]\n",
    "antonyms=[]"
   ]
  },
  {
   "cell_type": "code",
   "execution_count": 21,
   "metadata": {},
   "outputs": [
    {
     "name": "stdout",
     "output_type": "stream",
     "text": [
      "Synset('good.n.01')\n",
      "L: Lemma('good.n.01.good')\n",
      "Synset('good.n.02')\n",
      "L: Lemma('good.n.02.good')\n",
      "L: Lemma('good.n.02.goodness')\n",
      "Synset('good.n.03')\n",
      "L: Lemma('good.n.03.good')\n",
      "L: Lemma('good.n.03.goodness')\n",
      "Synset('commodity.n.01')\n",
      "L: Lemma('commodity.n.01.commodity')\n",
      "L: Lemma('commodity.n.01.trade_good')\n",
      "L: Lemma('commodity.n.01.good')\n",
      "Synset('good.a.01')\n",
      "L: Lemma('good.a.01.good')\n",
      "Synset('full.s.06')\n",
      "L: Lemma('full.s.06.full')\n",
      "L: Lemma('full.s.06.good')\n",
      "Synset('good.a.03')\n",
      "L: Lemma('good.a.03.good')\n",
      "Synset('estimable.s.02')\n",
      "L: Lemma('estimable.s.02.estimable')\n",
      "L: Lemma('estimable.s.02.good')\n",
      "L: Lemma('estimable.s.02.honorable')\n",
      "L: Lemma('estimable.s.02.respectable')\n",
      "Synset('beneficial.s.01')\n",
      "L: Lemma('beneficial.s.01.beneficial')\n",
      "L: Lemma('beneficial.s.01.good')\n",
      "Synset('good.s.06')\n",
      "L: Lemma('good.s.06.good')\n",
      "Synset('good.s.07')\n",
      "L: Lemma('good.s.07.good')\n",
      "L: Lemma('good.s.07.just')\n",
      "L: Lemma('good.s.07.upright')\n",
      "Synset('adept.s.01')\n",
      "L: Lemma('adept.s.01.adept')\n",
      "L: Lemma('adept.s.01.expert')\n",
      "L: Lemma('adept.s.01.good')\n",
      "L: Lemma('adept.s.01.practiced')\n",
      "L: Lemma('adept.s.01.proficient')\n",
      "L: Lemma('adept.s.01.skillful')\n",
      "L: Lemma('adept.s.01.skilful')\n",
      "Synset('good.s.09')\n",
      "L: Lemma('good.s.09.good')\n",
      "Synset('dear.s.02')\n",
      "L: Lemma('dear.s.02.dear')\n",
      "L: Lemma('dear.s.02.good')\n",
      "L: Lemma('dear.s.02.near')\n",
      "Synset('dependable.s.04')\n",
      "L: Lemma('dependable.s.04.dependable')\n",
      "L: Lemma('dependable.s.04.good')\n",
      "L: Lemma('dependable.s.04.safe')\n",
      "L: Lemma('dependable.s.04.secure')\n",
      "Synset('good.s.12')\n",
      "L: Lemma('good.s.12.good')\n",
      "L: Lemma('good.s.12.right')\n",
      "L: Lemma('good.s.12.ripe')\n",
      "Synset('good.s.13')\n",
      "L: Lemma('good.s.13.good')\n",
      "L: Lemma('good.s.13.well')\n",
      "Synset('effective.s.04')\n",
      "L: Lemma('effective.s.04.effective')\n",
      "L: Lemma('effective.s.04.good')\n",
      "L: Lemma('effective.s.04.in_effect')\n",
      "L: Lemma('effective.s.04.in_force')\n",
      "Synset('good.s.15')\n",
      "L: Lemma('good.s.15.good')\n",
      "Synset('good.s.16')\n",
      "L: Lemma('good.s.16.good')\n",
      "L: Lemma('good.s.16.serious')\n",
      "Synset('good.s.17')\n",
      "L: Lemma('good.s.17.good')\n",
      "L: Lemma('good.s.17.sound')\n",
      "Synset('good.s.18')\n",
      "L: Lemma('good.s.18.good')\n",
      "L: Lemma('good.s.18.salutary')\n",
      "Synset('good.s.19')\n",
      "L: Lemma('good.s.19.good')\n",
      "L: Lemma('good.s.19.honest')\n",
      "Synset('good.s.20')\n",
      "L: Lemma('good.s.20.good')\n",
      "L: Lemma('good.s.20.undecomposed')\n",
      "L: Lemma('good.s.20.unspoiled')\n",
      "L: Lemma('good.s.20.unspoilt')\n",
      "Synset('good.s.21')\n",
      "L: Lemma('good.s.21.good')\n",
      "Synset('well.r.01')\n",
      "L: Lemma('well.r.01.well')\n",
      "L: Lemma('well.r.01.good')\n",
      "Synset('thoroughly.r.02')\n",
      "L: Lemma('thoroughly.r.02.thoroughly')\n",
      "L: Lemma('thoroughly.r.02.soundly')\n",
      "L: Lemma('thoroughly.r.02.good')\n"
     ]
    }
   ],
   "source": [
    "for syn in wordnet.synsets(\"good\"):\n",
    "    print(syn)\n",
    "    for l in syn.lemmas():\n",
    "        print(\"L:\",l)\n",
    "        synonyms.append(l.name())\n",
    "        if l.antonyms():\n",
    "            antonyms.append(l.antonyms()[0].name())\n",
    "            "
   ]
  },
  {
   "cell_type": "code",
   "execution_count": 17,
   "metadata": {},
   "outputs": [
    {
     "data": {
      "text/plain": [
       "{'adept',\n",
       " 'beneficial',\n",
       " 'commodity',\n",
       " 'dear',\n",
       " 'dependable',\n",
       " 'effective',\n",
       " 'estimable',\n",
       " 'expert',\n",
       " 'full',\n",
       " 'good',\n",
       " 'goodness',\n",
       " 'honest',\n",
       " 'honorable',\n",
       " 'in_effect',\n",
       " 'in_force',\n",
       " 'just',\n",
       " 'near',\n",
       " 'practiced',\n",
       " 'proficient',\n",
       " 'respectable',\n",
       " 'right',\n",
       " 'ripe',\n",
       " 'safe',\n",
       " 'salutary',\n",
       " 'secure',\n",
       " 'serious',\n",
       " 'skilful',\n",
       " 'skillful',\n",
       " 'sound',\n",
       " 'soundly',\n",
       " 'thoroughly',\n",
       " 'trade_good',\n",
       " 'undecomposed',\n",
       " 'unspoiled',\n",
       " 'unspoilt',\n",
       " 'upright',\n",
       " 'well'}"
      ]
     },
     "execution_count": 17,
     "metadata": {},
     "output_type": "execute_result"
    }
   ],
   "source": [
    "set(synonyms)"
   ]
  },
  {
   "cell_type": "code",
   "execution_count": 18,
   "metadata": {},
   "outputs": [
    {
     "data": {
      "text/plain": [
       "{'bad', 'badness', 'evil', 'evilness', 'ill'}"
      ]
     },
     "execution_count": 18,
     "metadata": {},
     "output_type": "execute_result"
    }
   ],
   "source": [
    "set(antonyms)"
   ]
  },
  {
   "cell_type": "code",
   "execution_count": 22,
   "metadata": {},
   "outputs": [
    {
     "name": "stdout",
     "output_type": "stream",
     "text": [
      "0.9090909090909091\n"
     ]
    }
   ],
   "source": [
    "w1=wordnet.synset(\"ship.n.01\")\n",
    "w2=wordnet.synset(\"boat.n.01\")\n",
    "print(w1.wup_similarity(w2))"
   ]
  },
  {
   "cell_type": "code",
   "execution_count": 23,
   "metadata": {},
   "outputs": [
    {
     "name": "stdout",
     "output_type": "stream",
     "text": [
      "0.6956521739130435\n"
     ]
    }
   ],
   "source": [
    "w1=wordnet.synset(\"ship.n.01\")\n",
    "w2=wordnet.synset(\"car.n.01\")\n",
    "print(w1.wup_similarity(w2))"
   ]
  },
  {
   "cell_type": "code",
   "execution_count": 24,
   "metadata": {},
   "outputs": [
    {
     "name": "stdout",
     "output_type": "stream",
     "text": [
      "0.32\n"
     ]
    }
   ],
   "source": [
    "w1=wordnet.synset(\"ship.n.01\")\n",
    "w2=wordnet.synset(\"cat.n.01\")\n",
    "print(w1.wup_similarity(w2))"
   ]
  },
  {
   "cell_type": "code",
   "execution_count": 25,
   "metadata": {},
   "outputs": [
    {
     "name": "stdout",
     "output_type": "stream",
     "text": [
      "0.38095238095238093\n"
     ]
    }
   ],
   "source": [
    "w1=wordnet.synset(\"ship.n.01\")\n",
    "w2=wordnet.synset(\"cactus.n.01\")\n",
    "print(w1.wup_similarity(w2))"
   ]
  },
  {
   "cell_type": "code",
   "execution_count": 27,
   "metadata": {},
   "outputs": [
    {
     "name": "stdout",
     "output_type": "stream",
     "text": [
      "0.11764705882352941\n"
     ]
    }
   ],
   "source": [
    "w1=wordnet.synset(\"good.n.01\")\n",
    "w2=wordnet.synset(\"nice.n.01\")\n",
    "print(w1.wup_similarity(w2))"
   ]
  },
  {
   "cell_type": "code",
   "execution_count": 28,
   "metadata": {},
   "outputs": [
    {
     "name": "stdout",
     "output_type": "stream",
     "text": [
      "0.8571428571428571\n"
     ]
    }
   ],
   "source": [
    "w1=wordnet.synset(\"love.n.01\")\n",
    "w2=wordnet.synset(\"hate.n.01\")\n",
    "print(w1.wup_similarity(w2))"
   ]
  },
  {
   "cell_type": "code",
   "execution_count": null,
   "metadata": {},
   "outputs": [],
   "source": []
  }
 ],
 "metadata": {
  "kernelspec": {
   "display_name": "Python 3",
   "language": "python",
   "name": "python3"
  },
  "language_info": {
   "codemirror_mode": {
    "name": "ipython",
    "version": 3
   },
   "file_extension": ".py",
   "mimetype": "text/x-python",
   "name": "python",
   "nbconvert_exporter": "python",
   "pygments_lexer": "ipython3",
   "version": "3.6.5"
  }
 },
 "nbformat": 4,
 "nbformat_minor": 2
}
