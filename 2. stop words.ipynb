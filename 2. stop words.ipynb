{
 "cells": [
  {
   "cell_type": "code",
   "execution_count": 1,
   "metadata": {},
   "outputs": [],
   "source": [
    "from nltk.corpus import stopwords\n",
    "from nltk.tokenize import word_tokenize"
   ]
  },
  {
   "cell_type": "code",
   "execution_count": 2,
   "metadata": {},
   "outputs": [],
   "source": [
    "example_sentense='RAM (pronounced ramm) is an acronym for random access memory, a type of computer memory that can be accessed randomly; that is, any byte of memory can be accessed without touching the preceding bytes. RAM is found in servers, PCs, tablets, smartphones and other devices, such as printers.'"
   ]
  },
  {
   "cell_type": "code",
   "execution_count": 3,
   "metadata": {},
   "outputs": [
    {
     "name": "stdout",
     "output_type": "stream",
     "text": [
      "{'herself', \"you'll\", 'having', 'against', 'myself', 'has', 'on', 've', \"didn't\", 'the', 'didn', 'so', 'we', 'down', \"you're\", 'only', 'between', 'yours', 'before', 'he', 'him', 'they', 'himself', \"needn't\", \"she's\", 'with', 'up', 'in', \"won't\", 'won', 'do', 'haven', 'should', 'ours', 'm', 'i', \"isn't\", 'wouldn', 'aren', 'o', 'under', 'not', 'ma', \"mustn't\", 'you', 'same', 'now', 'or', \"aren't\", 'that', 'why', 'doing', 'it', \"wouldn't\", 'which', 'these', 'from', \"haven't\", 'hadn', 'is', 'their', 'theirs', 'over', 'than', 'needn', 'its', 'hasn', 'don', 'those', \"mightn't\", 'some', 'our', 'this', 'too', 'shouldn', \"shan't\", 'are', 'nor', 'during', 'them', 'd', 'does', 'am', 'at', 'here', 'hers', \"that'll\", 'about', 'themselves', 'further', \"weren't\", 'after', 'off', 'had', 'if', 'until', 'but', 's', 'll', 'ain', \"shouldn't\", 'few', 'for', 'y', 'my', 'couldn', 're', 'ourselves', 'his', 'mightn', 'out', 'more', 'above', 'can', 'through', 'yourself', 'any', \"don't\", 'all', 'most', 'own', 'her', 'wasn', 'yourselves', 'just', 'each', \"it's\", 'weren', 'there', 'who', 'no', 'mustn', 'itself', 'being', 'doesn', 'where', 'was', \"hasn't\", 'be', 'she', 'how', 'did', 'by', 'into', 'again', \"couldn't\", 'when', 't', 'such', 'then', 'very', 'have', 'other', 'were', \"you'd\", 'been', 'while', \"wasn't\", 'isn', 'and', 'of', 'to', 'what', \"should've\", 'a', 'as', 'whom', 'will', \"you've\", 'your', \"doesn't\", 'shan', 'once', 'me', 'because', \"hadn't\", 'both', 'below', 'an'}\n"
     ]
    }
   ],
   "source": [
    "stop_words=set(stopwords.words(\"english\"))\n",
    "print(stop_words)"
   ]
  },
  {
   "cell_type": "code",
   "execution_count": 4,
   "metadata": {},
   "outputs": [
    {
     "data": {
      "text/plain": [
       "179"
      ]
     },
     "execution_count": 4,
     "metadata": {},
     "output_type": "execute_result"
    }
   ],
   "source": [
    "len(stop_words)"
   ]
  },
  {
   "cell_type": "code",
   "execution_count": 5,
   "metadata": {},
   "outputs": [
    {
     "name": "stdout",
     "output_type": "stream",
     "text": [
      "['RAM', '(', 'pronounced', 'ramm', ')', 'is', 'an', 'acronym', 'for', 'random', 'access', 'memory', ',', 'a', 'type', 'of', 'computer', 'memory', 'that', 'can', 'be', 'accessed', 'randomly', ';', 'that', 'is', ',', 'any', 'byte', 'of', 'memory', 'can', 'be', 'accessed', 'without', 'touching', 'the', 'preceding', 'bytes', '.', 'RAM', 'is', 'found', 'in', 'servers', ',', 'PCs', ',', 'tablets', ',', 'smartphones', 'and', 'other', 'devices', ',', 'such', 'as', 'printers', '.']\n"
     ]
    }
   ],
   "source": [
    "words=word_tokenize(example_sentense)\n",
    "print(words)"
   ]
  },
  {
   "cell_type": "code",
   "execution_count": 6,
   "metadata": {},
   "outputs": [],
   "source": [
    "filtered_sentence=[]"
   ]
  },
  {
   "cell_type": "code",
   "execution_count": 7,
   "metadata": {},
   "outputs": [],
   "source": [
    "for w in words:\n",
    "    if w not in stop_words:\n",
    "        filtered_sentence.append(w)\n",
    "        "
   ]
  },
  {
   "cell_type": "code",
   "execution_count": 8,
   "metadata": {},
   "outputs": [
    {
     "name": "stdout",
     "output_type": "stream",
     "text": [
      "['RAM', '(', 'pronounced', 'ramm', ')', 'acronym', 'random', 'access', 'memory', ',', 'type', 'computer', 'memory', 'accessed', 'randomly', ';', ',', 'byte', 'memory', 'accessed', 'without', 'touching', 'preceding', 'bytes', '.', 'RAM', 'found', 'servers', ',', 'PCs', ',', 'tablets', ',', 'smartphones', 'devices', ',', 'printers', '.']\n"
     ]
    }
   ],
   "source": [
    "print(filtered_sentence)"
   ]
  },
  {
   "cell_type": "code",
   "execution_count": null,
   "metadata": {},
   "outputs": [],
   "source": []
  }
 ],
 "metadata": {
  "kernelspec": {
   "display_name": "Python 3",
   "language": "python",
   "name": "python3"
  },
  "language_info": {
   "codemirror_mode": {
    "name": "ipython",
    "version": 3
   },
   "file_extension": ".py",
   "mimetype": "text/x-python",
   "name": "python",
   "nbconvert_exporter": "python",
   "pygments_lexer": "ipython3",
   "version": "3.6.5"
  }
 },
 "nbformat": 4,
 "nbformat_minor": 2
}
